{
 "cells": [
  {
   "cell_type": "markdown",
   "id": "81422242-0fc8-4b1c-bf9c-41a44840f29d",
   "metadata": {},
   "source": [
    "# Overview of the OpenAI Assistant\n",
    "\n",
    "Look at how to use OpenAI Assistant API to 'chat' with the databot device."
   ]
  },
  {
   "cell_type": "markdown",
   "id": "0833da8e-a2cb-4e1d-84ce-06a7e33c900f",
   "metadata": {},
   "source": [
    "![openaistack](./docs/images/openai_stack.png)"
   ]
  },
  {
   "cell_type": "markdown",
   "id": "ecf6a010-d686-4444-a997-4aeda7212bc9",
   "metadata": {},
   "source": [
    "## Required Libraries\n",
    "\n",
    "At a minimum you will need:\n",
    "\n",
    "* openai\n",
    "* python-dotenv\n",
    "\n",
    "\n",
    "For this project we will also need:\n",
    "* requests\n",
    "* streamlit\n",
    "\n",
    "There are others ( see requirements.in ) but these represent the primary libraries"
   ]
  },
  {
   "cell_type": "markdown",
   "id": "c192eb27-b54f-43f9-b788-11c49b3a809e",
   "metadata": {},
   "source": [
    "# NOTE: Beta API \n",
    "The OpenAI Assistant API is still in beta and could change when it if finally fully released.  This technology is changing rapidly."
   ]
  },
  {
   "cell_type": "markdown",
   "id": "ebbaa64a-1b79-480e-bf18-f046a14fad76",
   "metadata": {},
   "source": [
    "# NOTE: Need credit card\n",
    "\n",
    "To sign up for an OpenAI Account and get an API key, you will be required to provide a credit card.\n",
    "\n",
    "In terms of cost, OpenAI charges loosely based on the number of words in your questions and your response. To give you an idea of the cost, in one month of using the API heavily to develop this material my total cost for the month was 98 cents.  \n",
    "\n",
    "I would expect your cost for this material to be less than $1.\n",
    "\n",
    "Also keep in mind that you can set a hard limit per month which I would recommend you do."
   ]
  },
  {
   "cell_type": "markdown",
   "id": "7f4b49d2-437f-4321-9e60-7094fde52f03",
   "metadata": {},
   "source": [
    "# NOTE: OpenAI API is Not the same as chatGPT\n",
    "\n",
    "It is often confused that chat.openai.com is the same as openai.com API, but it is not.  You DO NOT need to upgrade your ChatGPT account."
   ]
  },
  {
   "cell_type": "markdown",
   "id": "b8930030-ccc3-4c04-a68e-48709667da19",
   "metadata": {},
   "source": [
    "# NOTE: OpenAI Assistant is still wrong sometimes\n",
    "\n",
    "As we discussed in early sections of this course, you should only use AI/ML when it is ok to be wrong sometimes.  It is possible that as we go through this material, that our request might fail to retrieve a response from the OpenAI assistant or it might return a response that does not make much sense for our question.\n",
    "\n",
    "Generally - it is quite good at answer the questions - but I dont want you to be surprised if I or you do not get what we might have expected.\n"
   ]
  },
  {
   "cell_type": "markdown",
   "id": "0eac8a5a-3474-4559-aa3c-63e808a318ed",
   "metadata": {},
   "source": [
    "## OpenAIAssistant Class\n",
    "\n",
    "DroneBlocks has created a helper class to make interfacing with the OpenAI Assistant API easier.\n",
    "\n",
    "This notebook and the chat application will use the DroneBlocks OpenAIAssistant class but feel free to look at what that class is doing behind the scenes."
   ]
  },
  {
   "cell_type": "markdown",
   "id": "2ce26437-ec35-4471-82eb-36c4f6f5a00e",
   "metadata": {},
   "source": [
    "## OpenAI Assistant API Overview\n",
    "\n",
    "\n",
    "https://platform.openai.com/docs/assistants/overview"
   ]
  },
  {
   "cell_type": "markdown",
   "id": "d150523f-ba8a-4d43-b997-b747c92951b3",
   "metadata": {},
   "source": [
    "# Section 1: Create a basic Assistant\n",
    "\n",
    "Create an assistant with not additional files nor any function definition.\n",
    "\n",
    "When we create the databot specific Assistant, we will add a file with additional databot information and a function definition that can be called to read values from the databot."
   ]
  },
  {
   "cell_type": "markdown",
   "id": "dce3d3db-f32e-4341-b0de-b335141d5d45",
   "metadata": {},
   "source": [
    "## Step 1: Create an OpenAI Account and get an OpenAI API Key\n",
    "\n",
    "after you have an OpenAI API Key, it is important to not share that key.  I recommend putting that in a file called, '.env' and then making sure that file is in your .gitignore file so you do not commit it to Github.  \n",
    "\n",
    "We will use the `python-dotenv` package to read the `.env` file and put the contents into environment variables that OpenAI will use."
   ]
  },
  {
   "cell_type": "code",
   "execution_count": null,
   "id": "75a06629-4f0b-4c7e-ba13-5de8d87b5d53",
   "metadata": {},
   "outputs": [],
   "source": []
  },
  {
   "cell_type": "markdown",
   "id": "7f5b4b9f-2f25-46e9-9e0b-91d8b293fc8b",
   "metadata": {},
   "source": [
    "## Step 1: Create instance of OpenAIAssistant"
   ]
  },
  {
   "cell_type": "code",
   "execution_count": null,
   "id": "573dcaa3-1593-4976-a093-550902e56a70",
   "metadata": {},
   "outputs": [],
   "source": [
    "from openai_assistant import OpenAIAssistant, FunctionDefinition, FunctionParameter\n",
    "from dotenv import load_dotenv\n"
   ]
  },
  {
   "cell_type": "code",
   "execution_count": null,
   "id": "a2abbfe7-4fe2-4c33-be9f-cec2be9ded98",
   "metadata": {},
   "outputs": [],
   "source": [
    "# this will look for a file named .env in the current working directory\n",
    "load_dotenv()"
   ]
  },
  {
   "cell_type": "code",
   "execution_count": null,
   "id": "a3d0a6e7-1ce5-4820-b888-7c52078ee99b",
   "metadata": {},
   "outputs": [],
   "source": [
    "assistant = OpenAIAssistant()"
   ]
  },
  {
   "cell_type": "markdown",
   "id": "d163f9a0-1ec1-4ea4-abce-d9f44903b1bc",
   "metadata": {},
   "source": [
    "If you look in the OpenAI web page you will notice that you have no assistants nor any files right now.  Instanting the OpenAIAssistant does not yet create it.\n",
    "\n",
    "You might have other assistants/files but not the databot assistant"
   ]
  },
  {
   "cell_type": "code",
   "execution_count": null,
   "id": "801f5a2e-72de-4a31-969c-057263e9f4fb",
   "metadata": {},
   "outputs": [],
   "source": [
    "assistant.create_assistant(name=\"my_basic_assistant\")"
   ]
  },
  {
   "cell_type": "markdown",
   "id": "ed8d0b57-81df-4861-abbf-67fba1ec82d1",
   "metadata": {},
   "source": [
    "![basic_assistant](./docs/images/basic_assistant.png)"
   ]
  },
  {
   "cell_type": "markdown",
   "id": "b814bc5e-708a-44fd-923d-a70cec957c31",
   "metadata": {},
   "source": [
    "## Step 2: ask a question\n",
    "\n",
    "Asking a question is considered as `submitting a user prompt` in OpenAI terms"
   ]
  },
  {
   "cell_type": "code",
   "execution_count": null,
   "id": "066d0749-919d-44ac-9621-369fd8f553dc",
   "metadata": {},
   "outputs": [],
   "source": [
    "the_run = assistant.submit_user_prompt(user_prompt=\"What are the classes in the databot-py Python package from DroneBlocks\", wait_for_completion=True)\n"
   ]
  },
  {
   "cell_type": "code",
   "execution_count": null,
   "id": "7b7e1e36-25a5-4fa1-a39c-5d4494671f95",
   "metadata": {},
   "outputs": [],
   "source": [
    "the_run"
   ]
  },
  {
   "cell_type": "code",
   "execution_count": null,
   "id": "eb8c026b-e30b-4e6e-af03-a068b80f06c6",
   "metadata": {},
   "outputs": [],
   "source": [
    "messages = assistant.get_assistant_conversation()"
   ]
  },
  {
   "cell_type": "code",
   "execution_count": null,
   "id": "4822a2b1-752d-458a-9895-d1049cdb0b76",
   "metadata": {},
   "outputs": [],
   "source": [
    "for i, message in enumerate(messages):\n",
    "    if i % 2 == 0:\n",
    "        print(message)\n",
    "    else:\n",
    "        print(\"\\n\\t\")\n",
    "        print(message)"
   ]
  },
  {
   "cell_type": "markdown",
   "id": "022d529d-0fa6-4772-b6d8-7dd93754e88c",
   "metadata": {},
   "source": [
    "Output from the assistant.  \n",
    "```\n",
    "What are the classes in the databot-py Python package from DroneBlocks\n",
    "It seems that I don't have access to the specific documentation for the databot-py Python package from DroneBlocks. However, I can provide some general information. Typically, when working with a Python package, you can find the classes by importing the package and then using the `dir()` function to list its attributes. For example:\n",
    "\n",
    "```python\n",
    "import databot_py\n",
    "print(dir(databot_py))\n",
    "```\n",
    "\n",
    "This will give you a list of classes and other attributes defined in the package. If you have access to the package, you can explore its classes and their documentation in this way. If you have any specific questions or need further assistance, feel free to ask!\n",
    "What are the classes in the databot-py Python package from DroneBlocks\n",
    "It looks like I don't have direct access to the documentation for the databot-py Python package from DroneBlocks at the moment. \n",
    "\n",
    "If you have the package installed locally, you can explore the classes by importing the package and using the `dir()` function as mentioned earlier. \n",
    "\n",
    "If there's anything specific you'd like to know or discuss about the package, feel free to ask!\n",
    "```"
   ]
  },
  {
   "cell_type": "markdown",
   "id": "7342d8d2-049f-45a2-b43d-b48acb43fcd6",
   "metadata": {},
   "source": [
    "You can see that OpenAI does not know anything about the DroneBlocks databot-py class because it was created after the knowledge cutoff of OpenAI."
   ]
  },
  {
   "cell_type": "markdown",
   "id": "70da9f3a-1fbb-49f1-93ee-4d107f176998",
   "metadata": {},
   "source": [
    "## Step 3:  Delete the assistant\n",
    "\n",
    "OpenAI will charge you to maintain assistants, so it is best practice to delete any assistant you no longer need."
   ]
  },
  {
   "cell_type": "code",
   "execution_count": null,
   "id": "ad919b0f-7cc0-4afc-8371-f437bd9908ac",
   "metadata": {},
   "outputs": [],
   "source": [
    "assistant.delete_assistant()"
   ]
  },
  {
   "cell_type": "markdown",
   "id": "67d272d1-4af2-471a-bd07-9612000d0f19",
   "metadata": {},
   "source": [
    "If you go to thet OpenAI assistants page, you should not see the assistant listed any longer."
   ]
  },
  {
   "cell_type": "markdown",
   "id": "056f23f5-a9e1-4aa2-8131-7ba3f30bb965",
   "metadata": {},
   "source": [
    "# Section 2: Create a retrieval Assistant and upload files\n",
    "\n",
    "Create an assistant and pass it information specific to the DroneBlocks databot-py Python package."
   ]
  },
  {
   "cell_type": "markdown",
   "id": "6045084b-e340-4a17-8824-2109cb0f704c",
   "metadata": {},
   "source": [
    "## Step 1: Create instance of OpenAIAssistant"
   ]
  },
  {
   "cell_type": "code",
   "execution_count": null,
   "id": "95a3f399-115d-4a67-b1e2-8d740108122c",
   "metadata": {},
   "outputs": [],
   "source": [
    "assistant = OpenAIAssistant()"
   ]
  },
  {
   "cell_type": "markdown",
   "id": "ac13584b-a981-486a-8f36-a3fdf34a3b21",
   "metadata": {},
   "source": [
    "The above does not create the Assistant in the OpenAI platform.  It just instantiates a local representation of the Assistant.  We will create the OpenAI assistant after we upload files.\n",
    "\n",
    "If you look at the OpenAI Assistants tab, you will see that this assistant was NOT created in the OpenAI system."
   ]
  },
  {
   "cell_type": "markdown",
   "id": "8897e503-ed45-4760-a381-107ce99bf9eb",
   "metadata": {},
   "source": [
    "## Step 2:  Add files to the assistant\n",
    "\n",
    "Adding files to the Assistant, extends the knowledge base to include the new information\n",
    "\n",
    "The file that we are going to use is the Readme.md from the databot-py Github reposistory.\n",
    "\n",
    "https://github.com/DroneBlocks/databot-py.git"
   ]
  },
  {
   "cell_type": "markdown",
   "id": "e48deab2-638b-4fcb-92a4-3df158bfd6fb",
   "metadata": {},
   "source": [
    "Note in the OpenAI web page under Files, there are no files.  Also look at your assistant and note that there are no files associated with the assistant.\n"
   ]
  },
  {
   "cell_type": "markdown",
   "id": "42bc2ca1-2b74-4876-967e-a92ca9a8321d",
   "metadata": {},
   "source": [
    "![db_asst_no_files](./docs/images/empty_files.png)"
   ]
  },
  {
   "cell_type": "code",
   "execution_count": null,
   "id": "f3be92fa-dc5a-4344-b181-136759b95332",
   "metadata": {},
   "outputs": [],
   "source": []
  },
  {
   "cell_type": "code",
   "execution_count": null,
   "id": "086da149-62de-4d2a-888f-5561e810f773",
   "metadata": {},
   "outputs": [],
   "source": [
    "assistant.add_file_to_assistant(file_path=\"./databot_docs/pydatabot_readme.txt\")"
   ]
  },
  {
   "cell_type": "markdown",
   "id": "fa424f4c-1980-4b0c-ace5-20ad5d351db3",
   "metadata": {},
   "source": [
    "If you look at the OpenAI Files list you will see the uploaded file there.\n"
   ]
  },
  {
   "cell_type": "markdown",
   "id": "3c235786-a1f3-45b8-a78f-a9ddcde35265",
   "metadata": {},
   "source": [
    "![db_asst_files](./docs/images/uploaded_file.png)"
   ]
  },
  {
   "cell_type": "markdown",
   "id": "eaf42dcf-69c2-42da-a070-44a583abf252",
   "metadata": {},
   "source": [
    "## Create the Assistant in OpenAI"
   ]
  },
  {
   "cell_type": "code",
   "execution_count": null,
   "id": "cb9f7506-1401-4ed7-ba0a-1883fb5c7290",
   "metadata": {},
   "outputs": [],
   "source": [
    "assistant.create_assistant(name=\"DatabotAssistant\")"
   ]
  },
  {
   "cell_type": "markdown",
   "id": "23abf45e-5bf0-4f58-9977-3c7f334a5bb7",
   "metadata": {},
   "source": [
    "The above call will create the OpenAI Assistant - and you can see this in the OpenAI Assistant section.\n"
   ]
  },
  {
   "cell_type": "markdown",
   "id": "4f988161-5cce-41b9-857e-05f3d91ac4d2",
   "metadata": {},
   "source": [
    "If you look at the assistant now, you should see the file in the Files list."
   ]
  },
  {
   "cell_type": "markdown",
   "id": "027a8702-0cc1-4274-8f26-7ebf34300a17",
   "metadata": {},
   "source": [
    "![db_asst_files](./docs/images/databot_assistant_files.png)"
   ]
  },
  {
   "cell_type": "markdown",
   "id": "ba715535-4932-41bf-bf03-ebb8199c5733",
   "metadata": {},
   "source": [
    "And if you look in the Files section you should see the file there as well\n",
    "\n",
    "![db_readme](./docs/images/pydatabot_file.png)"
   ]
  },
  {
   "cell_type": "code",
   "execution_count": null,
   "id": "3f52775b-2cfc-46cd-898d-5fe1835f9e47",
   "metadata": {},
   "outputs": [],
   "source": []
  },
  {
   "cell_type": "markdown",
   "id": "0e2a6bf5-872d-4a4c-b4a7-24827a094e57",
   "metadata": {},
   "source": [
    "## Step 3: ask a question\n",
    "\n",
    "Asking a question is considered as `submitting a user prompt` in OpenAI terms\n",
    "\n",
    "lets ask the same question as before"
   ]
  },
  {
   "cell_type": "code",
   "execution_count": null,
   "id": "8ba51af4-a8e3-4a51-8213-888113287299",
   "metadata": {},
   "outputs": [],
   "source": [
    "the_run = assistant.submit_user_prompt(user_prompt=\"What are the classes in the databot-py Python package from DroneBlocks\", wait_for_completion=True)\n"
   ]
  },
  {
   "cell_type": "code",
   "execution_count": null,
   "id": "9f6c4979-1b8c-4ef2-b294-171cfcda9ecd",
   "metadata": {},
   "outputs": [],
   "source": [
    "messages = assistant.get_assistant_conversation()"
   ]
  },
  {
   "cell_type": "code",
   "execution_count": null,
   "id": "84231d2f-5a57-4252-b77a-bcc412b7f235",
   "metadata": {},
   "outputs": [],
   "source": [
    "for i, message in enumerate(messages):\n",
    "    if i % 2 == 0:\n",
    "        print(message)\n",
    "    else:\n",
    "        print(\"\\n\\t\")\n",
    "        print(message)"
   ]
  },
  {
   "cell_type": "markdown",
   "id": "78e897de-f553-4944-af01-ab7f907dc2fc",
   "metadata": {},
   "source": [
    "Previous Run:\n",
    "```text\n",
    "What are the classes in the databot-py Python package from DroneBlocks\n",
    "\n",
    "\n",
    "It seems there was an issue opening the file. Let me try a different approach to find the information you need.\n",
    "The `databot-py` Python package from DroneBlocks contains the following classes:\n",
    "\n",
    "1. `PyDatabot`: This is the base class implementation for interacting with the databot over Bluetooth. It can be used directly to print the data read from the databot. It provides the foundation for building custom classes to process the data returned from the databot, and it handles all of the setup and data retrieval.\n",
    "\n",
    "2. `CustomPyDatabotConsumer`: This class is meant to be inherited from and the derived class should override the method `process_databot_data`. The `process_databot_data` method will be called for each data record from the databot, and the derived class can then process the data in a specific way.\n",
    "\n",
    "3. `PyDatabotSaveToFileDataCollector`: This class extends the `PyDatabot` class and overrides the `process_databot_data` method to save values to a file. It is used primarily to easily read values from the databot and save them to a file for future processing.\n",
    "\n",
    "4. `PyDatabotSaveToQueueDataCollector`: This class extends the `PyDatabot` class and overrides the `process_databot_data` method to save values to an internal queue. It is used primarily with the databot webserver to provide the latest readings from the databot【12†source】.\n",
    "```\n"
   ]
  },
  {
   "cell_type": "markdown",
   "id": "3815e5b2-523e-42c9-bf89-1b64e7406d5c",
   "metadata": {},
   "source": [
    "## Step 3:  Delete the assistant and Files\n",
    "\n",
    "OpenAI will charge you to maintain assistants, so it is best practice to delete any assistant you no longer need."
   ]
  },
  {
   "cell_type": "code",
   "execution_count": null,
   "id": "fdf816ac-5311-4e44-86b0-d30950d67fbe",
   "metadata": {},
   "outputs": [],
   "source": [
    "assistant.delete_assistant()"
   ]
  },
  {
   "cell_type": "code",
   "execution_count": null,
   "id": "14a7cdef-0995-4072-8e1c-4bdb42c565cd",
   "metadata": {},
   "outputs": [],
   "source": [
    "assistant.files"
   ]
  },
  {
   "cell_type": "code",
   "execution_count": null,
   "id": "bafba9ac-0aab-4498-bbd8-7e79d1a5b586",
   "metadata": {},
   "outputs": [],
   "source": []
  },
  {
   "cell_type": "code",
   "execution_count": null,
   "id": "3d39a88d-fdf5-451d-87e7-58f416210623",
   "metadata": {},
   "outputs": [],
   "source": [
    "assistant.delete_files()"
   ]
  },
  {
   "cell_type": "code",
   "execution_count": null,
   "id": "6feab2b7-cbca-4b25-9172-b9c14af90750",
   "metadata": {},
   "outputs": [],
   "source": []
  },
  {
   "cell_type": "markdown",
   "id": "87b02dc3-7573-4ed7-a36e-e45f3e578008",
   "metadata": {},
   "source": [
    "# Section 3: Create a Retrieval and Function Assistant"
   ]
  },
  {
   "cell_type": "markdown",
   "id": "0e3ad177-49e9-413e-ba0c-9b54382d5060",
   "metadata": {},
   "source": [
    "In this section we are going to add 'Function calling'\n",
    "\n",
    "To be clear, OpenAI will not and cannot call your functions directly.  Instead, OpenAI can be told about our functions, what the function can do and the parameters it can take, and when we ask a question - the OpenAI assistant may ask us to call our function and return back to the Assistant the results of our function.\n",
    "\n",
    "This can be very powerful.  Now we can incorporate information and realtime data specific to our use case for the OpenAI to consider."
   ]
  },
  {
   "cell_type": "markdown",
   "id": "ddf5ea6d-ba4c-410f-aef1-70c88147ab4b",
   "metadata": {},
   "source": [
    "In our case, we are going to create a function that can read the values from the databot, so that the OpenAI Assistant can use the values when trying to answer a question."
   ]
  },
  {
   "cell_type": "markdown",
   "id": "f4276fc3-a182-40a6-b7f1-ed8b548b97a4",
   "metadata": {},
   "source": [
    "![msgflow](./docs/images/msg_flow.png)"
   ]
  },
  {
   "cell_type": "markdown",
   "id": "803e0e48-bbf0-48ba-8673-b60a65ead4e7",
   "metadata": {},
   "source": [
    "Much like having to tell the OpenAI assistant about the files to use, we have to tell OpenAI about the functions that it ask to be called.\n",
    "\n",
    "This involves defining:\n",
    "\n",
    "* name of the function\n",
    "\n",
    "* description of what the function does and returns\n",
    "\n",
    "* description of all of the parameters.\n",
    "\n",
    "Lets look at an example:"
   ]
  },
  {
   "cell_type": "markdown",
   "id": "37330ead-bcd9-4061-9393-fa986f85f579",
   "metadata": {},
   "source": [
    "For function defined as follows:\n",
    "\n",
    "`def get_databot_values(sensor_names: List) -> str:`"
   ]
  },
  {
   "cell_type": "markdown",
   "id": "1df468ce-d17e-4ff9-ba38-656ea8e29e74",
   "metadata": {},
   "source": [
    "The structure of the OpenAI Function definition is the JSON structure below.  As you can see, this structure is a little tedious to create.  DroneBlocks has created a Python dataclass structure to simplify the Function definition stage."
   ]
  },
  {
   "cell_type": "markdown",
   "id": "d15522da-4313-4183-b97f-46bab90d2efe",
   "metadata": {},
   "source": [
    "```json\n",
    "{\n",
    "  \"type\": \"function\",\n",
    "  \"function\": {\n",
    "    \"name\": \"get_databot_values\",\n",
    "    \"description\": \"Get sensor values from the databot.  If there are multiple sensor values, a list of sensor names can be provided.\\n                            This function can only provide information on the current values from the databot.  \\n                            This function CANNOT describe what the sensor is measuring.\\n                            \",\n",
    "    \"parameters\": {\n",
    "      \"type\": \"object\",\n",
    "      \"properties\": {\n",
    "        \"sensor_names\": {\n",
    "          \"type\": \"string\",\n",
    "          \"description\": \"List of the friendly human readable sensor value names.\",\n",
    "          \"enum\": [\n",
    "            \"Acceleration\",\n",
    "            \"Altimeter\",\n",
    "            \"Ambient Light\",\n",
    "            \"Atmospheric Pressure\",\n",
    "            \"CO2\",\n",
    "            \"External Temperature 1\",\n",
    "            \"External Temperature 2\",\n",
    "            \"Gesture\",\n",
    "            \"Gyroscope\",\n",
    "            \"Humidity\",\n",
    "            \"Humidity Adjusted Temperature\",\n",
    "            \"Linear Acceleration\",\n",
    "            \"Long Distance\",\n",
    "            \"Magneto\",\n",
    "            \"Noise\",\n",
    "            \"RGB Light\",\n",
    "            \"UltraViolet Light\",\n",
    "            \"Volatile Organic Compound\"\n",
    "          ]\n",
    "        }\n",
    "      },\n",
    "      \"required\": [\n",
    "        \"sensor_names\"\n",
    "      ]\n",
    "    }\n",
    "  }\n",
    "}\n",
    "```"
   ]
  },
  {
   "cell_type": "code",
   "execution_count": null,
   "id": "b442be34-f64b-4e43-9467-2fc26b0fb07d",
   "metadata": {},
   "outputs": [],
   "source": []
  },
  {
   "cell_type": "markdown",
   "id": "054fc29b-74ac-44e6-8766-20164d3f8809",
   "metadata": {},
   "source": [
    "The equivalent Function definition using the DroneBlocks classes looks like the following:"
   ]
  },
  {
   "cell_type": "markdown",
   "id": "a5fdc1a6-1f2f-44ba-87d6-063f5a78180b",
   "metadata": {},
   "source": [
    "```python\n",
    "function_definition = FunctionDefinition(\n",
    "    name=\"get_databot_values\",\n",
    "    description=\"\"\"Get sensor values from the databot.  If there are multiple sensor values, \n",
    "                    a list of sensor names can be provided.\n",
    "                    This function can only provide information on the current values from the databot.  \n",
    "                    This function CANNOT describe what the sensor is measuring.\n",
    "                    \"\"\",\n",
    "    parameters=[\n",
    "        FunctionParameter(\n",
    "            name=\"sensor_names\",\n",
    "            description=\"\"\"List of the friendly human readable sensor value names.\"\"\",\n",
    "            type=\"string\",\n",
    "            required=True,\n",
    "            enum_values=get_databot_friendly_names()\n",
    "        )\n",
    "    ]\n",
    ")\n",
    "\n",
    "```"
   ]
  },
  {
   "cell_type": "code",
   "execution_count": null,
   "id": "80d70a0a-ea83-4bc2-8e67-bfe3b101b799",
   "metadata": {},
   "outputs": [],
   "source": []
  },
  {
   "cell_type": "markdown",
   "id": "c8794ba6-30c6-496d-be61-00ec9befaf32",
   "metadata": {},
   "source": [
    "## How do you know when to call our function?\n",
    "\n",
    "The `OpenAIAssistant` class has a method that we can override that will get called with OpenAI needs us to call a function.\n",
    "\n",
    "The method to override is, `def handle_requires_action(self, tool_call, function_name: str, function_args:str) -> str:`\n",
    "\n",
    "where function_args is a stringified JSON object."
   ]
  },
  {
   "cell_type": "code",
   "execution_count": null,
   "id": "493f525b-8786-4b34-923d-21a861772e72",
   "metadata": {},
   "outputs": [],
   "source": []
  },
  {
   "cell_type": "markdown",
   "id": "52f8c792-3892-4ffb-9089-e0bbdf9decaf",
   "metadata": {},
   "source": [
    "### Databot OpenAI Assistant Class"
   ]
  },
  {
   "cell_type": "code",
   "execution_count": null,
   "id": "23a43bf6-2e56-4175-a2a2-f31aa84d2d29",
   "metadata": {},
   "outputs": [],
   "source": [
    "class SimpleDatabotOpenAIAssistant(OpenAIAssistant):\n",
    "    def __init__(self, api_key: str = None):\n",
    "        super().__init__(api_key=api_key)\n",
    "\n",
    "    def handle_requires_action(self, tool_call, function_name: str, function_args:str) -> str:\n",
    "        output = None\n",
    "        try:\n",
    "            print(tool_call)\n",
    "            print(function_name)\n",
    "            print(function_args)\n",
    "            args = json.loads(function_args)\n",
    "\n",
    "            sensor_value = get_databot_values(args['sensor_names'])\n",
    "            print(sensor_value)\n",
    "            output = f\"{sensor_value}\"\n",
    "\n",
    "        except:\n",
    "            output = \"unknown\"\n",
    "\n",
    "        return output\n"
   ]
  },
  {
   "cell_type": "markdown",
   "id": "385f74f1-a3e6-4459-acd0-bf480dd9be46",
   "metadata": {},
   "source": [
    "## Setup the function call to access databot"
   ]
  },
  {
   "cell_type": "code",
   "execution_count": null,
   "id": "3da5d847-3a6b-4f73-b60c-21049a05b57d",
   "metadata": {},
   "outputs": [],
   "source": [
    "from databot.PyDatabot import databot_sensors\n",
    "from typing import List\n",
    "import pandas as pd\n",
    "import json\n",
    "import requests"
   ]
  },
  {
   "cell_type": "code",
   "execution_count": null,
   "id": "b1b803ed-9d0e-43d8-bd30-ab620c50a581",
   "metadata": {},
   "outputs": [],
   "source": [
    "def get_databot_values(sensor_names: List) -> str:\n",
    "    try:\n",
    "        print(f\"Get values for: {sensor_names}\")\n",
    "        url = \"http://localhost:8321/\"\n",
    "        response = requests.get(url)\n",
    "        return json.dumps(response.json())\n",
    "    except Exception as exc:\n",
    "        print(exc)\n",
    "        return \"There was an error trying to access the databot device.  Make sure it is turned on and running the webserver.\"\n",
    "\n",
    "def get_databot_friendly_names() -> List:\n",
    "    df = pd.DataFrame(data=databot_sensors.values()).sort_values(by=\"friendly_name\")\n",
    "    f_names = df['friendly_name'].to_list()\n",
    "    return f_names\n"
   ]
  },
  {
   "cell_type": "code",
   "execution_count": null,
   "id": "9fcec743-d274-4b4f-ade0-9ea155b934bb",
   "metadata": {},
   "outputs": [],
   "source": []
  },
  {
   "cell_type": "code",
   "execution_count": null,
   "id": "7e024f14-63f3-414a-9069-47b8b67ca368",
   "metadata": {},
   "outputs": [],
   "source": [
    "assistant = SimpleDatabotOpenAIAssistant()\n"
   ]
  },
  {
   "cell_type": "markdown",
   "id": "37a61035-c84d-4bd2-b72c-0b7ade792520",
   "metadata": {},
   "source": [
    "## Define the Function"
   ]
  },
  {
   "cell_type": "code",
   "execution_count": null,
   "id": "2eee643e-4666-4de3-92a5-acd0483f9529",
   "metadata": {},
   "outputs": [],
   "source": [
    "function_definition = FunctionDefinition(\n",
    "    name=\"get_databot_values\",\n",
    "    description=\"\"\"Get sensor values from the databot.  If there are multiple sensor values, a list of sensor names can be provided.\n",
    "                    This function can only provide information on the current values from the databot.  \n",
    "                    This function CANNOT describe what the sensor is measuring.\n",
    "                    \"\"\",\n",
    "    parameters=[\n",
    "        FunctionParameter(\n",
    "            name=\"sensor_names\",\n",
    "            description=\"\"\"List of the friendly human readable sensor value names.\"\"\",\n",
    "            type=\"string\",\n",
    "            required=True,\n",
    "            enum_values=get_databot_friendly_names()\n",
    "        )\n",
    "    ]\n",
    ")\n"
   ]
  },
  {
   "cell_type": "code",
   "execution_count": null,
   "id": "4d96ca9f-4083-4043-bd50-3a0529dfc149",
   "metadata": {},
   "outputs": [],
   "source": []
  },
  {
   "cell_type": "code",
   "execution_count": null,
   "id": "e1256532-96c0-4ec1-be67-7991c9030897",
   "metadata": {},
   "outputs": [],
   "source": [
    "assistant.add_function(function_definition)\n"
   ]
  },
  {
   "cell_type": "markdown",
   "id": "000c41e1-deb8-492f-8b6c-02e2390bb062",
   "metadata": {},
   "source": [
    "Let's double check what the function JSON would look like"
   ]
  },
  {
   "cell_type": "code",
   "execution_count": null,
   "id": "f813f75a-4c19-4479-8386-5b73405209c7",
   "metadata": {},
   "outputs": [],
   "source": [
    "funcs_json = assistant.create_function_definition_json()\n",
    "for func_json in funcs_json:\n",
    "    print(json.dumps(func_json, indent=2))\n"
   ]
  },
  {
   "cell_type": "markdown",
   "id": "121c9d6c-6633-4b97-a922-c9cdc52ab253",
   "metadata": {},
   "source": [
    "## Add File to the Assistant"
   ]
  },
  {
   "cell_type": "code",
   "execution_count": null,
   "id": "fe4aba34-f7bd-49bb-8487-53ccf55a320a",
   "metadata": {},
   "outputs": [],
   "source": [
    "assistant.add_file_to_assistant(file_path=\"./databot_docs/pydatabot_readme.txt\")"
   ]
  },
  {
   "cell_type": "markdown",
   "id": "ce89e8af-035f-49a7-ae9d-455c7705d52a",
   "metadata": {},
   "source": [
    "## Create the Databot Assistant"
   ]
  },
  {
   "cell_type": "code",
   "execution_count": null,
   "id": "945575a6-f246-4ac8-a2e8-16e286cd602b",
   "metadata": {},
   "outputs": [],
   "source": [
    "assistant.create_assistant(name=\"Simple Databot Assistant\", \n",
    "            tools=['function', 'retrieval'],\n",
    "            instructions=\"You help answer questions about the databot sensor device and can call function to retrieve values from the databot.\"\n",
    "                )\n"
   ]
  },
  {
   "cell_type": "markdown",
   "id": "a05e735a-6f4f-4e20-939d-c42dfa70b62e",
   "metadata": {},
   "source": [
    "## Start the databot webserver"
   ]
  },
  {
   "cell_type": "markdown",
   "id": "e5b1b542-8ab4-44a2-9a10-bc7408c2ad21",
   "metadata": {},
   "source": [
    "Open a terminal window and start the databot webserver.  For example:\n",
    "\n",
    "`python pydatabot_webserver.py`"
   ]
  },
  {
   "cell_type": "code",
   "execution_count": null,
   "id": "67e31cb9-5ae8-4c28-bde4-76e3b54e7858",
   "metadata": {},
   "outputs": [],
   "source": [
    "def ask_question(user_question: str):\n",
    "    assistant.submit_user_prompt(user_prompt=user_question, wait_for_completion=True)\n",
    "    messages = assistant.get_assistant_conversation()\n",
    "    # just get the last 2 more recent to keep the output simple\n",
    "    print(\"-\"*20)\n",
    "    for i, message in enumerate(messages[-2:]):\n",
    "        if i % 2 == 0:\n",
    "            print(message)\n",
    "        else:\n",
    "            print(\"\\n\\t\")\n",
    "            print(message)"
   ]
  },
  {
   "cell_type": "code",
   "execution_count": null,
   "id": "29644d95-f645-4c2a-b0ee-c1917e2e8a17",
   "metadata": {},
   "outputs": [],
   "source": [
    "ask_question(\"What is the current external temperature sensor value 2?\")\n"
   ]
  },
  {
   "cell_type": "code",
   "execution_count": null,
   "id": "294b8291-e052-4945-aabc-3c65c1a044ed",
   "metadata": {},
   "outputs": [],
   "source": [
    "ask_question(\"What is the carbon dioxide level?\")\n"
   ]
  },
  {
   "cell_type": "code",
   "execution_count": null,
   "id": "08bf6815-1fab-48fa-a008-52a06167828c",
   "metadata": {},
   "outputs": [],
   "source": [
    "ask_question(\"is that co2 level dangerous?\")"
   ]
  },
  {
   "cell_type": "code",
   "execution_count": null,
   "id": "03af4c5c-4727-4bc6-a4de-63fc630b9fa8",
   "metadata": {},
   "outputs": [],
   "source": [
    "ask_question(\"What classes are in the DroneBlocks databot-py python package?\")"
   ]
  },
  {
   "cell_type": "code",
   "execution_count": null,
   "id": "6823bbcb-a627-47f9-8953-7494ced79c67",
   "metadata": {},
   "outputs": [],
   "source": [
    "ask_question(\"Can you create a python script showing how to read the CO2 sensor value?\")"
   ]
  },
  {
   "cell_type": "markdown",
   "id": "f052f341-897f-4455-a1f2-e786bad8d357",
   "metadata": {},
   "source": [
    "Previous Output\n",
    "\n",
    "Can you create a python script showing how to read the CO2 sensor value?\n",
    "Certainly! Below is a Python script that demonstrates how to read the CO2 sensor value using the `databot-py` Python package:\n",
    "\n",
    "```python\n",
    "\n",
    "from databot.PyDatabot import PyDatabot, DatabotConfig\n",
    "\n",
    "def main():\n",
    "    \"\"\"\n",
    "    An example of how to collect CO2 values from the databot using the PyDatabot API.\n",
    "\n",
    "    :return: None\n",
    "    \"\"\"\n",
    "    c = DatabotConfig()\n",
    "    c.co2 = True\n",
    "    c.address = PyDatabot.get_databot_address()\n",
    "    db = PyDatabot(c)\n",
    "    db.run()\n",
    "\n",
    "\n",
    "if __name__ == '__main__':\n",
    "    main()\n",
    "```\n",
    "In this script, we import the `PyDatabot` and `DatabotConfig` classes from the `databot` package. We then set the `co2` attribute of the `DatabotConfig` to `True`, indicating that we want to collect CO2 sensor values. Next, we obtain the databot address using the `get_databot_address` method and initialize the `PyDatabot` object with the configuration. Finally, we call the `run` method to start collecting the CO2 values from the databot.\n",
    "\n",
    "You can run this script in a Python environment that has the `databot-py` package installed to read the CO2 sensor values from the databot.\n"
   ]
  },
  {
   "cell_type": "code",
   "execution_count": null,
   "id": "5b7d7113-d5f2-44fb-92c3-1feddf677c0b",
   "metadata": {},
   "outputs": [],
   "source": [
    "ask_question(\"What is the linear acceleration value?\")"
   ]
  },
  {
   "cell_type": "code",
   "execution_count": null,
   "id": "e5db2e49-b52b-4eab-9998-f2904bcfb23c",
   "metadata": {},
   "outputs": [],
   "source": [
    "ask_question(\"What is the gyro and the linear acceleration value?\")"
   ]
  },
  {
   "cell_type": "markdown",
   "id": "590060b3-54b0-4c5c-99b2-4de69a9a4bcf",
   "metadata": {},
   "source": [
    "<b>NOTE</b> It knew to provide all 4 of the linear acceleration values.  No where did we tell the Assistant that there were 4 values associated with `Linear Acceleration`"
   ]
  },
  {
   "cell_type": "markdown",
   "id": "79b8bb33-a0c4-46c1-bcee-9bb15f22646a",
   "metadata": {},
   "source": [
    "## Delete the assistant and Files\n",
    "\n",
    "OpenAI will charge you to maintain assistants, so it is best practice to delete any assistant you no longer need."
   ]
  },
  {
   "cell_type": "code",
   "execution_count": null,
   "id": "2474a3d4-7f5c-40a8-b825-fce05ba37e17",
   "metadata": {},
   "outputs": [],
   "source": [
    "assistant.delete_assistant()"
   ]
  },
  {
   "cell_type": "code",
   "execution_count": null,
   "id": "f0ab42c4-f6dc-4476-a2d5-67c99ab69967",
   "metadata": {},
   "outputs": [],
   "source": [
    "assistant.delete_files()"
   ]
  },
  {
   "cell_type": "markdown",
   "id": "caae2216-edfd-43bb-97e6-33855649d4ee",
   "metadata": {},
   "source": [
    "## Stop the PyDatabot Web Server"
   ]
  },
  {
   "cell_type": "markdown",
   "id": "6b44ff00-2afb-440d-8f06-5e0544e5aacd",
   "metadata": {},
   "source": [
    "Make sure to stop the Webserver running in the terminal\n"
   ]
  },
  {
   "cell_type": "markdown",
   "id": "fc57d270-db5c-48c7-9d19-36cb9857b5bf",
   "metadata": {},
   "source": [
    "# Section 4: One layer deeper - DatabotOpenAIAssistant\n",
    "\n",
    "Let's look at a couple of more details.  In the previous section we glossed over some of these details to hopefully make the concepts easier to understand.  \n",
    "\n",
    "Now, let's uncover some of those details."
   ]
  },
  {
   "cell_type": "markdown",
   "id": "1db7a6bb-f4a5-438d-a57a-69ad5f646496",
   "metadata": {},
   "source": [
    "## Assistant Instructions"
   ]
  },
  {
   "cell_type": "markdown",
   "id": "b2489881-6361-4daf-9954-3491debf277a",
   "metadata": {},
   "source": [
    "When creating an assistant, you should provide some contextual instructions so that the Assistant knows generally what it is trying to accomplish.\n",
    "\n",
    "Use the DatabotOpenAiAssistant defined in the Streamlit Application.  "
   ]
  },
  {
   "cell_type": "code",
   "execution_count": null,
   "id": "5e676116-bf8c-47a3-97c0-6d725150bd51",
   "metadata": {},
   "outputs": [],
   "source": [
    "from app import DatabotOpenAIAssistant"
   ]
  },
  {
   "cell_type": "code",
   "execution_count": null,
   "id": "76904f26-c004-4462-a5bd-8c44313c1c39",
   "metadata": {},
   "outputs": [],
   "source": []
  },
  {
   "cell_type": "code",
   "execution_count": null,
   "id": "1532570e-42e2-4085-9b23-109ac38c0ef0",
   "metadata": {},
   "outputs": [],
   "source": [
    "assistant = DatabotOpenAIAssistant() "
   ]
  },
  {
   "cell_type": "code",
   "execution_count": null,
   "id": "8c93b534-ef04-4f55-a986-58ece771e323",
   "metadata": {},
   "outputs": [],
   "source": [
    "print(assistant.get_assistant_instructions())"
   ]
  },
  {
   "cell_type": "code",
   "execution_count": null,
   "id": "8b1fe8dd-135b-4bc7-b8ac-99ae6179bb8f",
   "metadata": {},
   "outputs": [],
   "source": [
    "assistant.create_assistant(name=\"Databot Assistant\", \n",
    "            tools=['function', 'retrieval'],\n",
    "                )\n"
   ]
  },
  {
   "cell_type": "markdown",
   "id": "26355390-90bd-4119-b86b-9505583bfffa",
   "metadata": {},
   "source": [
    "## Data Returned from Function call"
   ]
  },
  {
   "cell_type": "markdown",
   "id": "558439a5-c5d2-426f-a0fa-c9061e47e7f7",
   "metadata": {},
   "source": [
    "In the diagram we indicated that the function returned a single value.  In reality, the function returns a JSON object of all of the sensor readings.  It is up to the OpenAI assistant to figure out which of the sensor values is of interest."
   ]
  },
  {
   "cell_type": "markdown",
   "id": "0d170f84-fc3e-4623-84c9-a423475f1e1b",
   "metadata": {},
   "source": [
    "```json\n",
    "{\n",
    "  \"time\": \"23.00\",\n",
    "  \"external_temp_1\": \"22.10\",\n",
    "  \"external_temp_2\": \"21.30\",\n",
    "  \"co2\": \"400.00\",\n",
    "  \"voc\": \"0.00\",\n",
    "  \"acceleration_x\": \"9.84\",\n",
    "  \"acceleration_y\": \"0.02\",\n",
    "  \"acceleration_z\": \"0.22\",\n",
    "  \"absolute_acceleration\": \"9.85\",\n",
    "  \"gyro_x\": \"-0.24\",\n",
    "  \"gyro_y\": \"0.24\",\n",
    "  \"gyro_z\": \"-0.12\",\n",
    "  \"mag_x\": \"350.13\",\n",
    "  \"mag_y\": \"86.03\",\n",
    "  \"mag_z\": \"2930.37\",\n",
    "  \"linear_acceleration_x\": \"0.02\",\n",
    "  \"linear_acceleration_y\": \"0.00\",\n",
    "  \"linear_acceleration_z\": \"0.02\",\n",
    "  \"absolute_linear_acceleration\": \"0.03\",\n",
    "  \"ambient_light_in_lux\": \"17.00\",\n",
    "  \"humidity\": \"19.04\",\n",
    "  \"pressure\": \"1006.77\",\n",
    "  \"timestamp\": 1704836001.685478\n",
    "}\n",
    "```"
   ]
  },
  {
   "cell_type": "markdown",
   "id": "b9d907a5-de4c-4ba3-95c4-ec596c2515da",
   "metadata": {},
   "source": [
    "Keep in mind that we never explicitly told OpenAI how to map `volatile organic compound` to VOC or acceleration to the 4 different sensor values.  The OpenAI LLM figured this out on its own.\n",
    "\n",
    "This is really powerful as we now do not have to very explicitly program every detail."
   ]
  },
  {
   "cell_type": "markdown",
   "id": "6c6ef7ec-a9eb-4169-8f78-a3cd5b07db01",
   "metadata": {},
   "source": [
    "## Ask a temperature question and note the Celicus and Fahrenheit response."
   ]
  },
  {
   "cell_type": "code",
   "execution_count": null,
   "id": "263dcf10-b9c6-4129-9a94-1249a1f50496",
   "metadata": {},
   "outputs": [],
   "source": [
    "ask_question(\"What is the current external temperature sensor value 2?\")\n"
   ]
  },
  {
   "cell_type": "code",
   "execution_count": null,
   "id": "3adbff23-8324-4edb-b771-561205304248",
   "metadata": {},
   "outputs": [],
   "source": []
  },
  {
   "cell_type": "markdown",
   "id": "1a9cf647-b5c2-4f71-a9bd-e3b0a53bb426",
   "metadata": {},
   "source": [
    "## Delete the assistant \n",
    "\n",
    "OpenAI will charge you to maintain assistants, so it is best practice to delete any assistant you no longer need."
   ]
  },
  {
   "cell_type": "code",
   "execution_count": null,
   "id": "d0c5b813-f6b7-40e3-9d5d-a741b0c93094",
   "metadata": {},
   "outputs": [],
   "source": [
    "assistant.delete_assistant()"
   ]
  },
  {
   "cell_type": "code",
   "execution_count": null,
   "id": "90bb3211-e40c-406b-a9ee-99d40b0af81d",
   "metadata": {},
   "outputs": [],
   "source": []
  }
 ],
 "metadata": {
  "kernelspec": {
   "display_name": "Python 3 (ipykernel)",
   "language": "python",
   "name": "python3"
  },
  "language_info": {
   "codemirror_mode": {
    "name": "ipython",
    "version": 3
   },
   "file_extension": ".py",
   "mimetype": "text/x-python",
   "name": "python",
   "nbconvert_exporter": "python",
   "pygments_lexer": "ipython3",
   "version": "3.11.3"
  }
 },
 "nbformat": 4,
 "nbformat_minor": 5
}
